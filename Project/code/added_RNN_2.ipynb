{
 "cells": [
  {
   "cell_type": "code",
   "execution_count": 416,
   "id": "d08d3ace",
   "metadata": {},
   "outputs": [
    {
     "name": "stdout",
     "output_type": "stream",
     "text": [
      "Number of rows after preprocessing: 60000\n"
     ]
    }
   ],
   "source": [
    "import os\n",
    "import pandas as pd\n",
    "import re\n",
    "import nltk\n",
    "import contractions\n",
    "from sklearn.model_selection import train_test_split\n",
    "from sklearn.feature_extraction.text import TfidfVectorizer\n",
    "from sklearn.linear_model import LogisticRegression\n",
    "from sklearn.metrics import accuracy_score, precision_score, recall_score, f1_score, classification_report, confusion_matrix\n",
    "from nltk.corpus import stopwords\n",
    "from nltk.tokenize import word_tokenize\n",
    "\n",
    "# Load the CSV data into a DataFrame\n",
    "csv_file = \"combined_data.csv\"\n",
    "df = pd.read_csv(csv_file)\n",
    "\n",
    "df.dropna(subset=['body'], inplace=True)\n",
    "df.drop_duplicates(subset='body', inplace=True)\n",
    "df['word_count'] = df['body'].apply(lambda x: len(str(x).split()))\n",
    "filtered_df = df[df['word_count'] < 15]\n",
    "filtered_df = filtered_df.drop(columns=['word_count'])\n",
    "df = filtered_df\n",
    "\n",
    "flagged_df = df.iloc[:len(df) // 2]\n",
    "non_flagged_df = df.iloc[len(df) // 2:]\n",
    "\n",
    "num_samples_per_class = 30000\n",
    "# Randomly sample from each class to create a balanced dataset\n",
    "flagged_sampled = flagged_df.sample(n=num_samples_per_class, random_state=50)\n",
    "non_flagged_sampled = non_flagged_df.sample(n=num_samples_per_class, random_state=50)\n",
    "\n",
    "# # Concatenate the sampled DataFrames to create the balanced dataset\n",
    "df = pd.concat([flagged_sampled, non_flagged_sampled], ignore_index=True)\n",
    "\n",
    "'''\n",
    "Added 2 more pre processing steps.\n",
    "'''\n",
    "\n",
    "import pandas as pd\n",
    "import re\n",
    "from nltk.stem import PorterStemmer, WordNetLemmatizer\n",
    "from nltk.tokenize import word_tokenize\n",
    "from nltk.corpus import wordnet, stopwords\n",
    "import contractions\n",
    "def preprocess_text(text):\n",
    "    if pd.isna(text) or not text.strip():\n",
    "        return ''  # Replace empty strings or NaN with an empty string\n",
    "    \n",
    "    text = text.lower()\n",
    "    text = re.sub(r'[^\\w\\s,]', '', text)\n",
    "    text = re.sub(r'[0-9]', '', text)\n",
    "    text = ''.join(char for char in text if ord(char) < 128)\n",
    "    \n",
    "    # Normalize contractions\n",
    "    text = contractions.fix(text)\n",
    "    \n",
    "    # Tokenize the text using NLTK's word_tokenize\n",
    "    words = word_tokenize(text)\n",
    "    \n",
    "    # Remove stop words\n",
    "    stop_words = set(stopwords.words('english'))  # Change 'english' to your language if needed\n",
    "    words = [word for word in words if word not in stop_words]\n",
    "    \n",
    "    # Perform stemming and lemmatization\n",
    "    '''\n",
    "    Stemmer and lemmatizer are going to convert a word to it's root form.\n",
    "    '''\n",
    "    # stemmer = PorterStemmer()\n",
    "    # lemmatizer = WordNetLemmatizer()\n",
    "    # words = [stemmer.stem(lemmatizer.lemmatize(word)) for word in words]\n",
    "    \n",
    "    return ' '.join(words)\n",
    "\n",
    "df['body'] = df['body'].apply(preprocess_text)\n",
    "# Check the number of rows in the DataFrame after preprocessing\n",
    "num_rows = df.shape[0]\n",
    "print(f'Number of rows after preprocessing: {num_rows}')\n",
    "\n",
    "# Label Encoding\n",
    "df['label'] = df['label'].map({'deleted': 1, 'hidden': 1, 'nonflagged': 0})"
   ]
  },
  {
   "cell_type": "code",
   "execution_count": 417,
   "id": "01ccf041",
   "metadata": {},
   "outputs": [
    {
     "data": {
      "text/plain": [
       "array([[   0,    0,    0, ...,    0,    0,    0],\n",
       "       [   0,    0,    0, ...,    0,    0,    0],\n",
       "       [ 909,  309, 3046, ...,    0,    0,    0],\n",
       "       ...,\n",
       "       [   0,    0,    0, ...,    0,    0,    0],\n",
       "       [ 157,   80,  102, ...,    0,    0,    0],\n",
       "       [   0,    0,    0, ...,    0,    0,    0]], dtype=int32)"
      ]
     },
     "execution_count": 417,
     "metadata": {},
     "output_type": "execute_result"
    }
   ],
   "source": [
    "from keras.preprocessing.text import Tokenizer\n",
    "tokenizer = Tokenizer(oov_token = '<nothing>')\n",
    "tokenizer.fit_on_texts(df['body'])\n",
    "\n",
    "sequences = tokenizer.texts_to_sequences(df['body'])\n",
    "from keras.utils import pad_sequences\n",
    "sequences = pad_sequences(sequences, padding = 'post')\n",
    "sequences"
   ]
  },
  {
   "cell_type": "code",
   "execution_count": 461,
   "id": "a77ed1ab",
   "metadata": {},
   "outputs": [],
   "source": [
    "import numpy as np\n",
    "from sklearn.model_selection import train_test_split\n",
    "from sklearn.preprocessing import LabelEncoder\n",
    "\n",
    "# Label Encoding for the target variable\n",
    "label_encoder = LabelEncoder()\n",
    "df['label'] = label_encoder.fit_transform(df['label'])\n",
    "\n",
    "# Train-Test Split\n",
    "X_train, X_test, y_train, y_test = train_test_split(sequences, df['label'], test_size=0.8, random_state=42)"
   ]
  },
  {
   "cell_type": "code",
   "execution_count": 462,
   "id": "0bac31ca",
   "metadata": {},
   "outputs": [
    {
     "name": "stdout",
     "output_type": "stream",
     "text": [
      "Model: \"sequential_108\"\n",
      "_________________________________________________________________\n",
      " Layer (type)                Output Shape              Param #   \n",
      "=================================================================\n",
      " embedding_104 (Embedding)   (None, 16, 32)            641184    \n",
      "                                                                 \n",
      " simple_rnn_238 (SimpleRNN)  (None, 16, 64)            6208      \n",
      "                                                                 \n",
      " dropout_145 (Dropout)       (None, 16, 64)            0         \n",
      "                                                                 \n",
      " simple_rnn_239 (SimpleRNN)  (None, 16, 64)            8256      \n",
      "                                                                 \n",
      " dropout_146 (Dropout)       (None, 16, 64)            0         \n",
      "                                                                 \n",
      " simple_rnn_240 (SimpleRNN)  (None, 16, 64)            8256      \n",
      "                                                                 \n",
      " dropout_147 (Dropout)       (None, 16, 64)            0         \n",
      "                                                                 \n",
      " dense_106 (Dense)           (None, 16, 1)             65        \n",
      "                                                                 \n",
      "=================================================================\n",
      "Total params: 663969 (2.53 MB)\n",
      "Trainable params: 663969 (2.53 MB)\n",
      "Non-trainable params: 0 (0.00 Byte)\n",
      "_________________________________________________________________\n",
      "Epoch 1/7\n",
      "1500/1500 [==============================] - 11s 7ms/step - loss: 0.6592 - accuracy: 0.6021 - val_loss: 0.6733 - val_accuracy: 0.7641\n",
      "Epoch 2/7\n",
      "1500/1500 [==============================] - 10s 7ms/step - loss: 0.6036 - accuracy: 0.6579 - val_loss: 0.7449 - val_accuracy: 0.8013\n",
      "Epoch 3/7\n",
      "1500/1500 [==============================] - 10s 7ms/step - loss: 0.5627 - accuracy: 0.6825 - val_loss: 0.7026 - val_accuracy: 0.8635\n",
      "Epoch 4/7\n",
      "1500/1500 [==============================] - 10s 7ms/step - loss: 0.5326 - accuracy: 0.6945 - val_loss: 0.7585 - val_accuracy: 0.8624\n",
      "Epoch 5/7\n",
      "1500/1500 [==============================] - 10s 7ms/step - loss: 0.5178 - accuracy: 0.6993 - val_loss: 0.7532 - val_accuracy: 0.8670\n",
      "Epoch 6/7\n",
      "1500/1500 [==============================] - 10s 7ms/step - loss: 0.5063 - accuracy: 0.7015 - val_loss: 0.8002 - val_accuracy: 0.8745\n",
      "Epoch 7/7\n",
      "1500/1500 [==============================] - 10s 7ms/step - loss: 0.4981 - accuracy: 0.7039 - val_loss: 0.8032 - val_accuracy: 0.8536\n"
     ]
    }
   ],
   "source": [
    "from keras.models import Sequential\n",
    "from keras.layers import SimpleRNN, Dense, Embedding, Dropout\n",
    "from keras.regularizers import l2\n",
    "import matplotlib.pyplot as plt\n",
    "from sklearn.metrics import accuracy_score, precision_score, recall_score, f1_score, classification_report, confusion_matrix\n",
    "\n",
    "# Assuming 'max_sequence_length' is the maximum length of your sequences\n",
    "max_sequence_length = max(len(seq) for seq in sequences)\n",
    "\n",
    "model = Sequential()\n",
    "\n",
    "# Add an Embedding layer with a slightly larger dimension\n",
    "model.add(Embedding(input_dim=len(tokenizer.word_index) + 1,\n",
    "                    output_dim=32,  # Increased embedding dimension\n",
    "                    input_length=max_sequence_length))\n",
    "\n",
    "# Add the first SimpleRNN layer with L2 regularization\n",
    "model.add(SimpleRNN(64, return_sequences=True))\n",
    "model.add(Dropout(0.1))  # Adding dropout for regularization\n",
    "\n",
    "# Add a second SimpleRNN layer with L2 regularization\n",
    "model.add(SimpleRNN(64, return_sequences=True))\n",
    "model.add(Dropout(0.1))  # Adding dropout for regularization\n",
    "\n",
    "model.add(SimpleRNN(64, return_sequences=True))\n",
    "model.add(Dropout(0.1))  # Adding dropout for regularization\n",
    "\n",
    "# Add a Dense layer\n",
    "model.add(Dense(1, activation='sigmoid'))\n",
    "\n",
    "model.summary()\n",
    "\n",
    "# Compile and fit the model as before\n",
    "model.compile(loss='binary_crossentropy', optimizer='adam', metrics=['accuracy'])\n",
    "history = model.fit(sequences, df['label'], epochs=7, validation_split=0.2)"
   ]
  },
  {
   "cell_type": "code",
   "execution_count": 463,
   "id": "7880232c",
   "metadata": {},
   "outputs": [
    {
     "name": "stdout",
     "output_type": "stream",
     "text": [
      "Training Accuracy (last epoch): 70.39%\n",
      "Validation Accuracy (last epoch): 85.36%\n"
     ]
    }
   ],
   "source": [
    "print(f'Training Accuracy (last epoch): {history.history[\"accuracy\"][-1] * 100:.2f}%')\n",
    "print(f'Validation Accuracy (last epoch): {history.history[\"val_accuracy\"][-1] * 100:.2f}%')"
   ]
  },
  {
   "cell_type": "code",
   "execution_count": 466,
   "id": "0c78b782",
   "metadata": {},
   "outputs": [
    {
     "name": "stdout",
     "output_type": "stream",
     "text": [
      "Final Training Loss: 0.498085618019104\n",
      "Final Validation Loss: 0.8031561970710754\n"
     ]
    }
   ],
   "source": [
    "print(f'Final Training Loss: {history.history[\"loss\"][-1]}')\n",
    "print(f'Final Validation Loss: {history.history[\"val_loss\"][-1]}')"
   ]
  },
  {
   "cell_type": "code",
   "execution_count": 16,
   "id": "f8fc3b59",
   "metadata": {},
   "outputs": [
    {
     "ename": "NameError",
     "evalue": "name 'history' is not defined",
     "output_type": "error",
     "traceback": [
      "\u001b[0;31m---------------------------------------------------------------------------\u001b[0m",
      "\u001b[0;31mNameError\u001b[0m                                 Traceback (most recent call last)",
      "Cell \u001b[0;32mIn[16], line 1\u001b[0m\n\u001b[0;32m----> 1\u001b[0m plt\u001b[38;5;241m.\u001b[39mplot(history\u001b[38;5;241m.\u001b[39mhistory[\u001b[38;5;124m'\u001b[39m\u001b[38;5;124mloss\u001b[39m\u001b[38;5;124m'\u001b[39m], label\u001b[38;5;241m=\u001b[39m\u001b[38;5;124m'\u001b[39m\u001b[38;5;124mTraining Loss\u001b[39m\u001b[38;5;124m'\u001b[39m)\n\u001b[1;32m      2\u001b[0m plt\u001b[38;5;241m.\u001b[39mplot(history\u001b[38;5;241m.\u001b[39mhistory[\u001b[38;5;124m'\u001b[39m\u001b[38;5;124mval_loss\u001b[39m\u001b[38;5;124m'\u001b[39m], label\u001b[38;5;241m=\u001b[39m\u001b[38;5;124m'\u001b[39m\u001b[38;5;124mValidation Loss\u001b[39m\u001b[38;5;124m'\u001b[39m)\n\u001b[1;32m      3\u001b[0m plt\u001b[38;5;241m.\u001b[39mxlabel(\u001b[38;5;124m'\u001b[39m\u001b[38;5;124mEpoch\u001b[39m\u001b[38;5;124m'\u001b[39m)\n",
      "\u001b[0;31mNameError\u001b[0m: name 'history' is not defined"
     ]
    }
   ],
   "source": [
    "plt.plot(history.history['loss'], label='Training Loss')\n",
    "plt.plot(history.history['val_loss'], label='Validation Loss')\n",
    "plt.xlabel('Epoch')\n",
    "plt.ylabel('Loss')\n",
    "plt.legend()\n",
    "plt.show()"
   ]
  },
  {
   "cell_type": "code",
   "execution_count": 468,
   "id": "fd4ecb78",
   "metadata": {},
   "outputs": [
    {
     "data": {
      "image/png": "[encoded data removed]",
      "text/plain": [
       "<Figure size 640x480 with 1 Axes>"
      ]
     },
     "metadata": {},
     "output_type": "display_data"
    }
   ],
   "source": [
    "plt.plot(history.history['accuracy'], label='Training Accuracy')\n",
    "plt.plot(history.history['val_accuracy'], label='Validation Accuracy')\n",
    "plt.xlabel('Epoch')\n",
    "plt.ylabel('Accuracy')\n",
    "plt.legend()\n",
    "plt.show()"
   ]
  },
  {
   "cell_type": "code",
   "execution_count": null,
   "id": "0231e92f",
   "metadata": {},
   "outputs": [],
   "source": []
  }
 ],
 "metadata": {
  "kernelspec": {
   "display_name": "Python 3 (ipykernel)",
   "language": "python",
   "name": "python3"
  },
  "language_info": {
   "codemirror_mode": {
    "name": "ipython",
    "version": 3
   },
   "file_extension": ".py",
   "mimetype": "text/x-python",
   "name": "python",
   "nbconvert_exporter": "python",
   "pygments_lexer": "ipython3",
   "version": "3.11.4"
  }
 },
 "nbformat": 4,
 "nbformat_minor": 5
}
